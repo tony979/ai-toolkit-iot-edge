{
 "cells": [
  {
   "cell_type": "code",
   "execution_count": null,
   "metadata": {},
   "outputs": [],
   "source": [
    "from azureml.core  import Workspace\n",
    "\n",
    "#Load existing workspace from the config file info.\n",
    "ws  = Workspace.from_config()"
   ]
  },
  {
   "cell_type": "code",
   "execution_count": null,
   "metadata": {},
   "outputs": [],
   "source": [
    "from azureml.core.model import Model\n",
    "model = Model.register(model_path = \"model.pkl\", # this path points to the local file\n",
    "                    model_name = \"model.pkl\", # the model gets registered as this name\n",
    "                    tags = {'attribute': \"myattribute\", 'classification': \"myclassification\"},\n",
    "                    description = \"Anomaly Detection model\",\n",
    "                    workspace = ws)"
   ]
  },
  {
   "cell_type": "code",
   "execution_count": null,
   "metadata": {},
   "outputs": [],
   "source": [
    "import json\n",
    "from azureml.core.image import Image, ContainerImage\n",
    "\n",
    "#Image configuration\n",
    "image_config = ContainerImage.image_configuration( runtime = \"python\", \n",
    "                       execution_script = \"iot_score.py\",\n",
    "                       conda_file = \"myenv.yml\", \n",
    "#                       tags = {\"attributes\", \"calssification\"},\n",
    "                       description = \"Image that contains Anomaly Detection model\"\n",
    "                    )"
   ]
  },
  {
   "cell_type": "code",
   "execution_count": null,
   "metadata": {},
   "outputs": [],
   "source": [
    "image = ContainerImage.create ( name = 'machinelearningmodule', \n",
    "                                models = [model],\n",
    "                                image_config = image_config,\n",
    "                                workspace = ws\n",
    "                              )"
   ]
  },
  {
   "cell_type": "code",
   "execution_count": null,
   "metadata": {},
   "outputs": [],
   "source": []
  }
 ],
 "metadata": {
  "kernelspec": {
   "display_name": "Python 3",
   "language": "python",
   "name": "python3"
  },
  "language_info": {
   "codemirror_mode": {
    "name": "ipython",
    "version": 3
   },
   "file_extension": ".py",
   "mimetype": "text/x-python",
   "name": "python",
   "nbconvert_exporter": "python",
   "pygments_lexer": "ipython3",
   "version": "3.6.6"
  }
 },
 "nbformat": 4,
 "nbformat_minor": 2
}
