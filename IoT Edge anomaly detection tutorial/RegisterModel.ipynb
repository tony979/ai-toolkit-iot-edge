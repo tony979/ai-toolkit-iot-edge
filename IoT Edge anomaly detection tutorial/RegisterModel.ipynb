{
  "cells": [
    {
      "metadata": {
        "trusted": true
      },
      "cell_type": "code",
      "source": "from azureml.core  import Workspace\n\n#Load existing workspace from the config file info.\nws  = Workspace.from_config()",
      "execution_count": 1,
      "outputs": [
        {
          "output_type": "stream",
          "text": "Found the config file in: /home/nbuser/library/config.json\n",
          "name": "stdout"
        }
      ]
    },
    {
      "metadata": {
        "trusted": true
      },
      "cell_type": "code",
      "source": "from azureml.core.model import Model\nmodel = Model.register(model_path = \"model.pkl\", # this path points to the local file\n                    model_name = \"model.pkl\", # the model gets registered as this name\n                    tags = {'attribute': \"myattribute\", 'classification': \"myclassification\"},\n                    description = \"Anomaly Detection model\",\n                    workspace = ws)",
      "execution_count": 2,
      "outputs": [
        {
          "output_type": "stream",
          "text": "Registering model model.pkl\n",
          "name": "stdout"
        }
      ]
    },
    {
      "metadata": {
        "trusted": true
      },
      "cell_type": "code",
      "source": "import json\nfrom azureml.core.image import Image, ContainerImage\n\n#Image configuration\nimage_config = ContainerImage.image_configuration( runtime = \"python\", \n                       execution_script = \"iot_score.py\",\n                       conda_file = \"myenv.yml\", \n#                       tags = {\"attributes\", \"calssification\"},\n                       description = \"Image that contains Anomaly Detection model\"\n                    )",
      "execution_count": 3,
      "outputs": []
    },
    {
      "metadata": {
        "trusted": true
      },
      "cell_type": "code",
      "source": "image = ContainerImage.create ( workspace = ws,\n                                name = 'detectionimage', \n                                models = [model],\n                                image_config = image_config\n                              )",
      "execution_count": 4,
      "outputs": [
        {
          "output_type": "stream",
          "text": "Creating image\n",
          "name": "stdout"
        }
      ]
    },
    {
      "metadata": {
        "trusted": true
      },
      "cell_type": "code",
      "source": "",
      "execution_count": null,
      "outputs": []
    }
  ],
  "metadata": {
    "kernelspec": {
      "name": "python36",
      "display_name": "Python 3.6",
      "language": "python"
    },
    "language_info": {
      "mimetype": "text/x-python",
      "nbconvert_exporter": "python",
      "name": "python",
      "pygments_lexer": "ipython3",
      "version": "3.6.6",
      "file_extension": ".py",
      "codemirror_mode": {
        "version": 3,
        "name": "ipython"
      }
    }
  },
  "nbformat": 4,
  "nbformat_minor": 2
}